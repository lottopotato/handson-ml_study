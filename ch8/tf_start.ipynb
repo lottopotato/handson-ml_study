{
 "cells": [
  {
   "cell_type": "markdown",
   "metadata": {},
   "source": [
    "# 9. tensorflow exercise #\n",
    "first define computation graph with python and then more effectively execution with c++"
   ]
  },
  {
   "cell_type": "markdown",
   "metadata": {},
   "source": [
    "## 9.1 install ##\n",
    "already installed (path)"
   ]
  },
  {
   "cell_type": "markdown",
   "metadata": {},
   "source": [
    "## 9.2 first practice ##\n"
   ]
  },
  {
   "cell_type": "code",
   "execution_count": 1,
   "metadata": {},
   "outputs": [
    {
     "name": "stdout",
     "output_type": "stream",
     "text": [
      "40\n"
     ]
    }
   ],
   "source": [
    "import tensorflow as tf\n",
    "\n",
    "x = tf.Variable(3, name = 'x')\n",
    "y = tf.Variable(4, name = 'y')\n",
    "f = x*x*y + y\n",
    "init = tf.global_variables_initializer()\n",
    "\n",
    "with tf.Session() as sess:\n",
    "    init.run()\n",
    "    result = f.eval()\n",
    "    print(result)\n",
    "    \n",
    "# to make this notebook's output stable across runs\n",
    "def reset_graph(seed=42):\n",
    "    tf.reset_default_graph()\n",
    "    tf.set_random_seed(seed)\n",
    "    np.random.seed(seed)"
   ]
  },
  {
   "cell_type": "markdown",
   "metadata": {},
   "source": [
    "## 9.3 computation graph management ##"
   ]
  },
  {
   "cell_type": "code",
   "execution_count": 2,
   "metadata": {},
   "outputs": [
    {
     "data": {
      "text/plain": [
       "True"
      ]
     },
     "execution_count": 2,
     "metadata": {},
     "output_type": "execute_result"
    }
   ],
   "source": [
    "x1 = tf.Variable(1)\n",
    "x1.graph is tf.get_default_graph()"
   ]
  },
  {
   "cell_type": "code",
   "execution_count": 3,
   "metadata": {},
   "outputs": [
    {
     "name": "stdout",
     "output_type": "stream",
     "text": [
      "True\n",
      "False\n"
     ]
    }
   ],
   "source": [
    "graph = tf.Graph()\n",
    "with graph.as_default():\n",
    "    x2 = tf.Variable(2)\n",
    "print(x2.graph is graph)\n",
    "print(x2.graph is tf.get_default_graph())"
   ]
  },
  {
   "cell_type": "code",
   "execution_count": 4,
   "metadata": {},
   "outputs": [
    {
     "name": "stdout",
     "output_type": "stream",
     "text": [
      "True\n",
      "False\n"
     ]
    }
   ],
   "source": [
    "print(x1.graph is tf.get_default_graph())\n",
    "tf.reset_default_graph()\n",
    "print(x1.graph is tf.get_default_graph())"
   ]
  },
  {
   "cell_type": "markdown",
   "metadata": {},
   "source": [
    "## 9.4 node value management ##"
   ]
  },
  {
   "cell_type": "code",
   "execution_count": 5,
   "metadata": {},
   "outputs": [
    {
     "name": "stdout",
     "output_type": "stream",
     "text": [
      "10\n",
      "15\n"
     ]
    }
   ],
   "source": [
    "w = tf.constant(3)\n",
    "x = w + 2\n",
    "y = x + 5\n",
    "z = x * 3\n",
    "# example 1\n",
    "with tf.Session() as sess:\n",
    "    print(y.eval())\n",
    "    print(z.eval())"
   ]
  },
  {
   "cell_type": "code",
   "execution_count": 6,
   "metadata": {},
   "outputs": [
    {
     "name": "stdout",
     "output_type": "stream",
     "text": [
      "10\n",
      "15\n"
     ]
    }
   ],
   "source": [
    "# example 2\n",
    "with tf.Session() as sess:\n",
    "    y_val, z_val = sess.run([y, z])\n",
    "    print(y_val)\n",
    "    print(z_val)"
   ]
  },
  {
   "cell_type": "markdown",
   "metadata": {},
   "source": [
    "at example1, y, z is independ so session twice execute x,w <br>\n",
    "at example2, y, z excute to together and so execute x, w one time."
   ]
  },
  {
   "cell_type": "markdown",
   "metadata": {},
   "source": [
    "## 9.5 linear-regression with tensorflow ##\n"
   ]
  },
  {
   "cell_type": "code",
   "execution_count": 7,
   "metadata": {},
   "outputs": [],
   "source": [
    "import numpy as np\n",
    "from sklearn.datasets import fetch_california_housing\n",
    "import matplotlib.pyplot as plt\n",
    "\n",
    "housing = fetch_california_housing()\n",
    "\n",
    "def linear_regression(housing):\n",
    "    reset_graph()\n",
    "    m, n = housing.data.shape\n",
    "    housing_data_plus_bias = np.c_[np.ones((m, 1)), housing.data]\n",
    "\n",
    "    X = tf.constant(housing_data_plus_bias, dtype = tf.float32, name = 'x')\n",
    "    y = tf.constant(housing.target.reshape(-1, 1), dtype = tf.float32, name = 'y')\n",
    "    XT = tf.transpose(X)\n",
    "    theta = tf.matmul(tf.matmul(tf.matrix_inverse(tf.matmul(XT, X)), XT), y)\n",
    "    with tf.Session() as sess:\n",
    "        theta_value = theta.eval()\n",
    "        print(theta_value)"
   ]
  },
  {
   "cell_type": "markdown",
   "metadata": {},
   "source": [
    "**normal equation**<br>\n",
    "$ \\hat\\theta = (((X^T \\cdot X)^{-1}) \\cdot X^T) \\cdot y) $"
   ]
  },
  {
   "cell_type": "code",
   "execution_count": 8,
   "metadata": {},
   "outputs": [
    {
     "name": "stdout",
     "output_type": "stream",
     "text": [
      "[[-3.7185181e+01]\n",
      " [ 4.3633747e-01]\n",
      " [ 9.3952334e-03]\n",
      " [-1.0711310e-01]\n",
      " [ 6.4479220e-01]\n",
      " [-4.0338000e-06]\n",
      " [-3.7813708e-03]\n",
      " [-4.2348403e-01]\n",
      " [-4.3721911e-01]]\n"
     ]
    }
   ],
   "source": [
    "linear_regression(housing)"
   ]
  },
  {
   "cell_type": "markdown",
   "metadata": {},
   "source": [
    "## 9.6 gradient descent ##"
   ]
  },
  {
   "cell_type": "markdown",
   "metadata": {},
   "source": [
    "### 9.6.1 direct compute gradient ###"
   ]
  },
  {
   "cell_type": "code",
   "execution_count": 9,
   "metadata": {},
   "outputs": [],
   "source": [
    "from sklearn.preprocessing import StandardScaler\n",
    "\n",
    "def direct_gradient(housing):\n",
    "    reset_graph()\n",
    "    m, n = housing.data.shape\n",
    "    housing_data_plus_bias = np.c_[np.ones((m, 1)), housing.data]\n",
    "    n_epochs = 1000\n",
    "    learning_rate = 0.01\n",
    "    scaled_housing_data_plus_bias = StandardScaler().fit_transform(housing_data_plus_bias)\n",
    "    X = tf.constant(scaled_housing_data_plus_bias, dtype = tf.float32, name = 'X')\n",
    "    y = tf.constant(housing.target.reshape(-1, 1), dtype = tf.float32, name = 'y')\n",
    "    # random_unifrom : random tensor\n",
    "    theta = tf.Variable(tf.random_uniform([n + 1, 1], -1.0, 1.0), name = 'theta')\n",
    "    y_pred = tf.matmul(X, theta, name = 'predictions')\n",
    "\n",
    "    error = y_pred - y\n",
    "    mse = tf.reduce_mean(tf.square(error), name = 'mse')\n",
    "    gradients = 2/m * tf.matmul(tf.transpose(X), error)\n",
    "    train_op = tf.assign(theta, theta - learning_rate*gradients)\n",
    "\n",
    "    init = tf.global_variables_initializer()\n",
    "\n",
    "    with tf.Session() as sess:\n",
    "        sess.run(init)\n",
    "        for epoch in range(n_epochs+1):\n",
    "            if epoch % 100 == 0:\n",
    "                print('epoch ', epoch, ' MSE : ', mse.eval())\n",
    "            sess.run(train_op)\n",
    "        best_theta = theta.eval()\n",
    "        #print(best_theta)\n"
   ]
  },
  {
   "cell_type": "code",
   "execution_count": 10,
   "metadata": {},
   "outputs": [
    {
     "name": "stdout",
     "output_type": "stream",
     "text": [
      "epoch  0  MSE :  7.589867\n",
      "epoch  100  MSE :  4.8741293\n",
      "epoch  200  MSE :  4.8182063\n",
      "epoch  300  MSE :  4.812053\n",
      "epoch  400  MSE :  4.809471\n",
      "epoch  500  MSE :  4.8077292\n",
      "epoch  600  MSE :  4.806481\n",
      "epoch  700  MSE :  4.805583\n",
      "epoch  800  MSE :  4.8049335\n",
      "epoch  900  MSE :  4.8044662\n",
      "epoch  1000  MSE :  4.804129\n"
     ]
    }
   ],
   "source": [
    "direct_gradient(housing)"
   ]
  },
  {
   "cell_type": "markdown",
   "metadata": {},
   "source": [
    "### 9.6.2 differential ###"
   ]
  },
  {
   "cell_type": "code",
   "execution_count": 11,
   "metadata": {},
   "outputs": [],
   "source": [
    "def use_diff(housing):\n",
    "    reset_graph()\n",
    "    m, n = housing.data.shape\n",
    "    housing_data_plus_bias = np.c_[np.ones((m, 1)), housing.data]\n",
    "    n_epochs = 1000\n",
    "    learning_rate = 0.01\n",
    "    scaled_housing_data_plus_bias = StandardScaler().fit_transform(housing_data_plus_bias)\n",
    "    X = tf.constant(scaled_housing_data_plus_bias, dtype = tf.float32, name = 'X')\n",
    "    y = tf.constant(housing.target.reshape(-1, 1), dtype = tf.float32, name = 'y')\n",
    "    # random_unifrom : random tensor\n",
    "    theta = tf.Variable(tf.random_uniform([n + 1, 1], -1.0, 1.0), name = 'theta')\n",
    "    y_pred = tf.matmul(X, theta, name = 'predictions')\n",
    "\n",
    "    error = y_pred - y\n",
    "    mse = tf.reduce_mean(tf.square(error), name = 'mse')\n",
    "    \n",
    "    gradients = tf.gradients(mse, [theta])[0]\n",
    "    train_op = tf.assign(theta, theta - learning_rate*gradients)\n",
    "\n",
    "    init = tf.global_variables_initializer()\n",
    "\n",
    "    with tf.Session() as sess:\n",
    "        sess.run(init)\n",
    "        for epoch in range(n_epochs+1):\n",
    "            if epoch % 100 == 0:\n",
    "                print('epoch ', epoch, ' MSE : ', mse.eval())\n",
    "            sess.run(train_op)\n",
    "        best_theta = theta.eval()"
   ]
  },
  {
   "cell_type": "code",
   "execution_count": 12,
   "metadata": {},
   "outputs": [
    {
     "name": "stdout",
     "output_type": "stream",
     "text": [
      "epoch  0  MSE :  7.589867\n",
      "epoch  100  MSE :  4.8741293\n",
      "epoch  200  MSE :  4.818206\n",
      "epoch  300  MSE :  4.812053\n",
      "epoch  400  MSE :  4.80947\n",
      "epoch  500  MSE :  4.8077297\n",
      "epoch  600  MSE :  4.806481\n",
      "epoch  700  MSE :  4.805583\n",
      "epoch  800  MSE :  4.804933\n",
      "epoch  900  MSE :  4.8044662\n",
      "epoch  1000  MSE :  4.804129\n"
     ]
    }
   ],
   "source": [
    "use_diff(housing)"
   ]
  },
  {
   "cell_type": "markdown",
   "metadata": {},
   "source": [
    "### 9.6.3 optimizer ###\n"
   ]
  },
  {
   "cell_type": "code",
   "execution_count": 13,
   "metadata": {},
   "outputs": [],
   "source": [
    "def use_optimizer(housing):\n",
    "    reset_graph()\n",
    "    m, n = housing.data.shape\n",
    "    housing_data_plus_bias = np.c_[np.ones((m, 1)), housing.data]\n",
    "    n_epochs = 1000\n",
    "    learning_rate = 0.01\n",
    "    scaled_housing_data_plus_bias = StandardScaler().fit_transform(housing_data_plus_bias)\n",
    "    X = tf.constant(scaled_housing_data_plus_bias, dtype = tf.float32, name = 'X')\n",
    "    y = tf.constant(housing.target.reshape(-1, 1), dtype = tf.float32, name = 'y')\n",
    "    # random_unifrom : random tensor\n",
    "    theta = tf.Variable(tf.random_uniform([n + 1, 1], -1.0, 1.0), name = 'theta')\n",
    "    y_pred = tf.matmul(X, theta, name = 'predictions')\n",
    "\n",
    "    error = y_pred - y\n",
    "    mse = tf.reduce_mean(tf.square(error), name = 'mse')\n",
    "    \n",
    "    optimizer = tf.train.GradientDescentOptimizer(learning_rate = learning_rate)\n",
    "    train_op = optimizer.minimize(mse)\n",
    "\n",
    "    init = tf.global_variables_initializer()\n",
    "\n",
    "    with tf.Session() as sess:\n",
    "        sess.run(init)\n",
    "        for epoch in range(n_epochs+1):\n",
    "            if epoch % 100 == 0:\n",
    "                print('epoch ', epoch, ' MSE : ', mse.eval())\n",
    "            sess.run(train_op)\n",
    "        best_theta = theta.eval()"
   ]
  },
  {
   "cell_type": "code",
   "execution_count": 14,
   "metadata": {},
   "outputs": [
    {
     "name": "stdout",
     "output_type": "stream",
     "text": [
      "epoch  0  MSE :  7.589867\n",
      "epoch  100  MSE :  4.8741293\n",
      "epoch  200  MSE :  4.818206\n",
      "epoch  300  MSE :  4.812053\n",
      "epoch  400  MSE :  4.80947\n",
      "epoch  500  MSE :  4.8077297\n",
      "epoch  600  MSE :  4.806481\n",
      "epoch  700  MSE :  4.805583\n",
      "epoch  800  MSE :  4.804933\n",
      "epoch  900  MSE :  4.8044662\n",
      "epoch  1000  MSE :  4.804129\n"
     ]
    }
   ],
   "source": [
    "use_optimizer(housing)"
   ]
  },
  {
   "cell_type": "markdown",
   "metadata": {},
   "source": [
    "### 9.7 input data to training algorithm ###\n"
   ]
  },
  {
   "cell_type": "code",
   "execution_count": 15,
   "metadata": {},
   "outputs": [
    {
     "name": "stdout",
     "output_type": "stream",
     "text": [
      "[[6. 7. 8.]]\n",
      "[[ 9. 10. 11.]\n",
      " [12. 13. 14.]]\n"
     ]
    }
   ],
   "source": [
    "A = tf.placeholder(tf.float32, shape=(None, 3))\n",
    "a = [[[1, 2, 3]], [[4, 5, 6], [7, 8, 9]]]\n",
    "B = A + 5\n",
    "with tf.Session() as sess:\n",
    "    B_val_1 = B.eval(feed_dict = {A : a[0]})\n",
    "    B_val_2 = B.eval(feed_dict = {A : a[1]})\n",
    "print(B_val_1)\n",
    "print(B_val_2)"
   ]
  },
  {
   "cell_type": "code",
   "execution_count": 16,
   "metadata": {},
   "outputs": [],
   "source": [
    "def mini_batch_learning(housing):\n",
    "    reset_graph()\n",
    "    m, n = housing.data.shape\n",
    "    housing_data_plus_bias = np.c_[np.ones((m, 1)), housing.data]\n",
    "    scaled_housing = StandardScaler().fit_transform(housing_data_plus_bias)\n",
    "    housing_target = housing.target.reshape(-1,1)\n",
    "    \n",
    "    epochs = 100\n",
    "    X = tf.placeholder(tf.float32, shape = (None, n + 1), name = 'X')\n",
    "    y = tf.placeholder(tf.float32, shape = (None, 1), name = 'y')\n",
    "    \n",
    "    batch_size = 100\n",
    "    n_batches = int(np.ceil(m/batch_size))\n",
    "    \n",
    "    theta = tf.Variable(tf.random_uniform([n + 1, 1], -1.0, 1.0), name = 'theta')\n",
    "    y_pred = tf.matmul(X, theta, name = 'predictions')\n",
    "    error = y_pred - y\n",
    "    \n",
    "    optimizer = tf.train.MomentumOptimizer(learning_rate = 1e-3, momentum = 0.9)\n",
    "    loss = tf.reduce_mean(tf.square(error), name = 'mse')\n",
    "    train_op = optimizer.minimize(loss)\n",
    "    \n",
    "    with tf.Session() as sess:\n",
    "        sess.run(tf.global_variables_initializer())\n",
    "        for epoch in range(epochs + 1):\n",
    "            for batch_index in range(n_batches):\n",
    "                X_batch, y_batch = batch_fetch(scaled_housing, housing_target, batch_index, batch_size)\n",
    "                _, losses = sess.run([train_op, loss], feed_dict = {X : X_batch, y : y_batch})\n",
    "            print('epoch : %i loss %f'%(epoch, losses), end = '\\r')\n",
    "    \n",
    "def batch_fetch(data, target, batch_index, batch_size):\n",
    "    X_batch = data[batch_index * batch_size: (batch_index+1)*batch_size]\n",
    "    y_batch = target[batch_index * batch_size: (batch_index+1)*batch_size]\n",
    "    \n",
    "    return X_batch, y_batch\n",
    "    "
   ]
  },
  {
   "cell_type": "code",
   "execution_count": 17,
   "metadata": {},
   "outputs": [
    {
     "name": "stdout",
     "output_type": "stream",
     "text": [
      "epoch : 100 loss 0.277746\r"
     ]
    }
   ],
   "source": [
    "mini_batch_learning(housing)"
   ]
  },
  {
   "cell_type": "markdown",
   "metadata": {},
   "source": [
    "## 9.8 model store & restore ##\n"
   ]
  },
  {
   "cell_type": "code",
   "execution_count": 20,
   "metadata": {},
   "outputs": [],
   "source": [
    "def mini_batch_learning_with_saver(housing):\n",
    "    reset_graph()\n",
    "    m, n = housing.data.shape\n",
    "    housing_data_plus_bias = np.c_[np.ones((m, 1)), housing.data]\n",
    "    scaled_housing = StandardScaler().fit_transform(housing_data_plus_bias)\n",
    "    housing_target = housing.target.reshape(-1,1)\n",
    "    \n",
    "    epochs = 100\n",
    "    X = tf.placeholder(tf.float32, shape = (None, n + 1), name = 'X')\n",
    "    y = tf.placeholder(tf.float32, shape = (None, 1), name = 'y')\n",
    "    \n",
    "    batch_size = 100\n",
    "    n_batches = int(np.ceil(m/batch_size))\n",
    "    \n",
    "    theta = tf.Variable(tf.random_uniform([n + 1, 1], -1.0, 1.0), name = 'theta')\n",
    "    y_pred = tf.matmul(X, theta, name = 'predictions')\n",
    "    error = y_pred - y\n",
    "    \n",
    "    optimizer = tf.train.MomentumOptimizer(learning_rate = 1e-3, momentum = 0.9)\n",
    "    loss = tf.reduce_mean(tf.square(error), name = 'mse')\n",
    "    train_op = optimizer.minimize(loss)\n",
    "    \n",
    "    # store model\n",
    "    saver = tf.train.Saver()\n",
    "    with tf.Session() as sess:\n",
    "        sess.run(tf.global_variables_initializer())\n",
    "        for epoch in range(epochs + 1):\n",
    "            for batch_index in range(n_batches):\n",
    "                X_batch, y_batch = batch_fetch(scaled_housing, housing_target, batch_index, batch_size)\n",
    "                _, losses = sess.run([train_op, loss], feed_dict = {X : X_batch, y : y_batch})\n",
    "            if epoch % 10 == 0:\n",
    "                save_path = saver.save(sess, './model_test.ckpt')\n",
    "            print('epoch : %i loss %f'%(epoch, losses), end = '\\r')"
   ]
  },
  {
   "cell_type": "code",
   "execution_count": 21,
   "metadata": {},
   "outputs": [
    {
     "name": "stdout",
     "output_type": "stream",
     "text": [
      "epoch : 100 loss 0.277746\r"
     ]
    }
   ],
   "source": [
    "mini_batch_learning_with_saver(housing)"
   ]
  },
  {
   "cell_type": "markdown",
   "metadata": {},
   "source": [
    "**model restore**<br>\n",
    "with tf.Session() as sess: <br>\n",
    "&nbsp;saver.restore(sess, 'path') <br>\n",
    "<br>\n",
    "another way.\n",
    "<br>saver = tf.train.Saver({'weights' : theta})<br>\n",
    "graph<br>\n",
    "saver = tf.train.import_meta_graph('path/filename.ckpt.meta') <br>"
   ]
  },
  {
   "cell_type": "markdown",
   "metadata": {},
   "source": [
    "## 9.9 visualize ##"
   ]
  },
  {
   "cell_type": "code",
   "execution_count": 34,
   "metadata": {},
   "outputs": [],
   "source": [
    "from datetime import datetime\n",
    "def mini_batch_learning_visualize(housing):\n",
    "    reset_graph()\n",
    "    m, n = housing.data.shape\n",
    "    housing_data_plus_bias = np.c_[np.ones((m, 1)), housing.data]\n",
    "    scaled_housing = StandardScaler().fit_transform(housing_data_plus_bias)\n",
    "    housing_target = housing.target.reshape(-1,1)\n",
    "    \n",
    "    epochs = 100\n",
    "    X = tf.placeholder(tf.float32, shape = (None, n + 1), name = 'X')\n",
    "    y = tf.placeholder(tf.float32, shape = (None, 1), name = 'y')\n",
    "    \n",
    "    batch_size = 100\n",
    "    n_batches = int(np.ceil(m/batch_size))\n",
    "    \n",
    "    theta = tf.Variable(tf.random_uniform([n + 1, 1], -1.0, 1.0), name = 'theta')\n",
    "    y_pred = tf.matmul(X, theta, name = 'predictions')\n",
    "    error = y_pred - y\n",
    "    \n",
    "    optimizer = tf.train.MomentumOptimizer(learning_rate = 1e-3, momentum = 0.9)\n",
    "    loss = tf.reduce_mean(tf.square(error), name = 'mse')\n",
    "    train_op = optimizer.minimize(loss)\n",
    "    \n",
    "    # store model\n",
    "    saver = tf.train.Saver()\n",
    "    # graph setting\n",
    "    #now = datetime.utcnow().strftime('%Y%m%d%H%M%S')\n",
    "    _log = 'tf_logs/'\n",
    "    mse_summary = tf.summary.scalar('MSE', loss)\n",
    "    summary_op  = tf.summary.merge_all()\n",
    "    \n",
    "    with tf.Session() as sess:\n",
    "        file_writer = tf.summary.FileWriter(_log, sess.graph)\n",
    "        file_writer.flush()\n",
    "        sess.run(tf.global_variables_initializer())\n",
    "        for epoch in range(epochs + 1):\n",
    "            for batch_index in range(n_batches):\n",
    "                X_batch, y_batch = batch_fetch(scaled_housing, housing_target, batch_index, batch_size)\n",
    "                _, losses = sess.run([train_op, loss], feed_dict = {X : X_batch, y : y_batch})\n",
    "            if epoch % 10 == 0:\n",
    "                summary_str = sess.run(summary_op, feed_dict = {X : X_batch, y : y_batch})\n",
    "                step = epoch * n_batches + batch_index\n",
    "                saver.save(sess, _log + 'model_visualize.ckpt', step)\n",
    "                file_writer.add_summary(summary_str, step)\n",
    "            print('epoch : %i loss %f'%(epoch, losses), end = '\\r')\n",
    "        print('')\n",
    "        \n",
    "    file_writer.close()"
   ]
  },
  {
   "cell_type": "code",
   "execution_count": 35,
   "metadata": {},
   "outputs": [
    {
     "name": "stdout",
     "output_type": "stream",
     "text": [
      "epoch : 100 loss 0.277746\n"
     ]
    }
   ],
   "source": [
    "mini_batch_learning_visualize(housing)"
   ]
  },
  {
   "cell_type": "markdown",
   "metadata": {},
   "source": [
    "tensorboard --logdir 'dir'"
   ]
  },
  {
   "cell_type": "code",
   "execution_count": 118,
   "metadata": {},
   "outputs": [
    {
     "name": "stdout",
     "output_type": "stream",
     "text": [
      "(20640, 8)\n"
     ]
    }
   ],
   "source": [
    "print(housing.data.shape)"
   ]
  },
  {
   "cell_type": "markdown",
   "metadata": {},
   "source": [
    "# tensorboard not working ~0327 #"
   ]
  },
  {
   "cell_type": "code",
   "execution_count": null,
   "metadata": {},
   "outputs": [],
   "source": []
  }
 ],
 "metadata": {
  "kernelspec": {
   "display_name": "Python 3",
   "language": "python",
   "name": "python3"
  },
  "language_info": {
   "codemirror_mode": {
    "name": "ipython",
    "version": 3
   },
   "file_extension": ".py",
   "mimetype": "text/x-python",
   "name": "python",
   "nbconvert_exporter": "python",
   "pygments_lexer": "ipython3",
   "version": "3.6.6"
  }
 },
 "nbformat": 4,
 "nbformat_minor": 2
}
